{
 "cells": [
  {
   "cell_type": "code",
   "execution_count": 2,
   "id": "fbe934e4",
   "metadata": {},
   "outputs": [],
   "source": [
    "# Importing dependencies\n",
    "import matplotlib.pyplot as plt\n",
    "import pandas as pd\n",
    "from pathlib import Path\n",
    "from sklearn.ensemble import RandomForestClassifier\n",
    "from sklearn.preprocessing import StandardScaler\n",
    "from sklearn.model_selection import train_test_split\n",
    "from sklearn.metrics import confusion_matrix, accuracy_score, classification_report"
   ]
  },
  {
   "cell_type": "code",
   "execution_count": 14,
   "id": "5d27e587",
   "metadata": {
    "scrolled": true
   },
   "outputs": [
    {
     "data": {
      "text/html": [
       "<div>\n",
       "<style scoped>\n",
       "    .dataframe tbody tr th:only-of-type {\n",
       "        vertical-align: middle;\n",
       "    }\n",
       "\n",
       "    .dataframe tbody tr th {\n",
       "        vertical-align: top;\n",
       "    }\n",
       "\n",
       "    .dataframe thead th {\n",
       "        text-align: right;\n",
       "    }\n",
       "</style>\n",
       "<table border=\"1\" class=\"dataframe\">\n",
       "  <thead>\n",
       "    <tr style=\"text-align: right;\">\n",
       "      <th></th>\n",
       "      <th>Bib</th>\n",
       "      <th>Name</th>\n",
       "      <th>Age</th>\n",
       "      <th>M/F</th>\n",
       "      <th>City</th>\n",
       "      <th>State</th>\n",
       "      <th>Country</th>\n",
       "      <th>Pace (0-5K)</th>\n",
       "      <th>Pace (5-10K)</th>\n",
       "      <th>Pace (10-15K)</th>\n",
       "      <th>Pace (15-20K)</th>\n",
       "      <th>Pace (20-25K)</th>\n",
       "      <th>Pace (25-30K)</th>\n",
       "      <th>Pace (30-35K)</th>\n",
       "      <th>Pace (35-40K)</th>\n",
       "      <th>Overall Pace</th>\n",
       "      <th>Calculated Bonk</th>\n",
       "    </tr>\n",
       "  </thead>\n",
       "  <tbody>\n",
       "    <tr>\n",
       "      <th>0</th>\n",
       "      <td>3</td>\n",
       "      <td>Desisa, Lelisa</td>\n",
       "      <td>25</td>\n",
       "      <td>M</td>\n",
       "      <td>Ambo</td>\n",
       "      <td>NaN</td>\n",
       "      <td>ETH</td>\n",
       "      <td>2.94</td>\n",
       "      <td>3.0</td>\n",
       "      <td>3.05</td>\n",
       "      <td>3.11</td>\n",
       "      <td>3.13</td>\n",
       "      <td>3.18</td>\n",
       "      <td>3.20</td>\n",
       "      <td>2.93</td>\n",
       "      <td>4.93</td>\n",
       "      <td>0</td>\n",
       "    </tr>\n",
       "    <tr>\n",
       "      <th>1</th>\n",
       "      <td>4</td>\n",
       "      <td>Tsegay, Yemane Adhane</td>\n",
       "      <td>30</td>\n",
       "      <td>M</td>\n",
       "      <td>Addis Ababa</td>\n",
       "      <td>NaN</td>\n",
       "      <td>ETH</td>\n",
       "      <td>2.94</td>\n",
       "      <td>3.0</td>\n",
       "      <td>3.05</td>\n",
       "      <td>3.10</td>\n",
       "      <td>3.13</td>\n",
       "      <td>3.17</td>\n",
       "      <td>3.20</td>\n",
       "      <td>2.94</td>\n",
       "      <td>4.97</td>\n",
       "      <td>0</td>\n",
       "    </tr>\n",
       "    <tr>\n",
       "      <th>2</th>\n",
       "      <td>11</td>\n",
       "      <td>Kipyego, Bernard</td>\n",
       "      <td>28</td>\n",
       "      <td>M</td>\n",
       "      <td>Eldoret</td>\n",
       "      <td>NaN</td>\n",
       "      <td>KEN</td>\n",
       "      <td>2.94</td>\n",
       "      <td>3.0</td>\n",
       "      <td>3.06</td>\n",
       "      <td>3.09</td>\n",
       "      <td>3.13</td>\n",
       "      <td>3.18</td>\n",
       "      <td>3.21</td>\n",
       "      <td>3.15</td>\n",
       "      <td>5.00</td>\n",
       "      <td>0</td>\n",
       "    </tr>\n",
       "    <tr>\n",
       "      <th>3</th>\n",
       "      <td>10</td>\n",
       "      <td>Korir, Wesley</td>\n",
       "      <td>32</td>\n",
       "      <td>M</td>\n",
       "      <td>Kitale</td>\n",
       "      <td>NaN</td>\n",
       "      <td>KEN</td>\n",
       "      <td>2.94</td>\n",
       "      <td>3.0</td>\n",
       "      <td>3.05</td>\n",
       "      <td>3.10</td>\n",
       "      <td>3.13</td>\n",
       "      <td>3.18</td>\n",
       "      <td>3.20</td>\n",
       "      <td>3.09</td>\n",
       "      <td>5.00</td>\n",
       "      <td>0</td>\n",
       "    </tr>\n",
       "    <tr>\n",
       "      <th>4</th>\n",
       "      <td>5</td>\n",
       "      <td>Tola, Tadese</td>\n",
       "      <td>27</td>\n",
       "      <td>M</td>\n",
       "      <td>Addis Ababa</td>\n",
       "      <td>NaN</td>\n",
       "      <td>ETH</td>\n",
       "      <td>2.94</td>\n",
       "      <td>3.0</td>\n",
       "      <td>3.05</td>\n",
       "      <td>3.10</td>\n",
       "      <td>3.13</td>\n",
       "      <td>3.18</td>\n",
       "      <td>3.20</td>\n",
       "      <td>3.33</td>\n",
       "      <td>5.10</td>\n",
       "      <td>0</td>\n",
       "    </tr>\n",
       "  </tbody>\n",
       "</table>\n",
       "</div>"
      ],
      "text/plain": [
       "  Bib                   Name  Age M/F         City State Country  Pace (0-5K)  \\\n",
       "0   3         Desisa, Lelisa   25   M         Ambo   NaN     ETH         2.94   \n",
       "1   4  Tsegay, Yemane Adhane   30   M  Addis Ababa   NaN     ETH         2.94   \n",
       "2  11       Kipyego, Bernard   28   M      Eldoret   NaN     KEN         2.94   \n",
       "3  10          Korir, Wesley   32   M       Kitale   NaN     KEN         2.94   \n",
       "4   5           Tola, Tadese   27   M  Addis Ababa   NaN     ETH         2.94   \n",
       "\n",
       "   Pace (5-10K)  Pace (10-15K)  Pace (15-20K)  Pace (20-25K)  Pace (25-30K)  \\\n",
       "0           3.0           3.05           3.11           3.13           3.18   \n",
       "1           3.0           3.05           3.10           3.13           3.17   \n",
       "2           3.0           3.06           3.09           3.13           3.18   \n",
       "3           3.0           3.05           3.10           3.13           3.18   \n",
       "4           3.0           3.05           3.10           3.13           3.18   \n",
       "\n",
       "   Pace (30-35K)  Pace (35-40K)  Overall Pace  Calculated Bonk  \n",
       "0           3.20           2.93          4.93                0  \n",
       "1           3.20           2.94          4.97                0  \n",
       "2           3.21           3.15          5.00                0  \n",
       "3           3.20           3.09          5.00                0  \n",
       "4           3.20           3.33          5.10                0  "
      ]
     },
     "execution_count": 14,
     "metadata": {},
     "output_type": "execute_result"
    }
   ],
   "source": [
    "# Loading the data\n",
    "file_path = Path('./Output_Files/paces_bonks_2015.csv')\n",
    "df_bonk_log = pd.read_csv(file_path)\n",
    "df_bonk_log.head()"
   ]
  },
  {
   "cell_type": "code",
   "execution_count": 15,
   "id": "fdddae27",
   "metadata": {},
   "outputs": [
    {
     "data": {
      "text/html": [
       "<div>\n",
       "<style scoped>\n",
       "    .dataframe tbody tr th:only-of-type {\n",
       "        vertical-align: middle;\n",
       "    }\n",
       "\n",
       "    .dataframe tbody tr th {\n",
       "        vertical-align: top;\n",
       "    }\n",
       "\n",
       "    .dataframe thead th {\n",
       "        text-align: right;\n",
       "    }\n",
       "</style>\n",
       "<table border=\"1\" class=\"dataframe\">\n",
       "  <thead>\n",
       "    <tr style=\"text-align: right;\">\n",
       "      <th></th>\n",
       "      <th>Age</th>\n",
       "      <th>Pace (0-5K)</th>\n",
       "      <th>Pace (5-10K)</th>\n",
       "      <th>Pace (10-15K)</th>\n",
       "      <th>Pace (15-20K)</th>\n",
       "      <th>Pace (20-25K)</th>\n",
       "      <th>Pace (25-30K)</th>\n",
       "    </tr>\n",
       "  </thead>\n",
       "  <tbody>\n",
       "    <tr>\n",
       "      <th>0</th>\n",
       "      <td>25</td>\n",
       "      <td>2.94</td>\n",
       "      <td>3.0</td>\n",
       "      <td>3.05</td>\n",
       "      <td>3.11</td>\n",
       "      <td>3.13</td>\n",
       "      <td>3.18</td>\n",
       "    </tr>\n",
       "    <tr>\n",
       "      <th>1</th>\n",
       "      <td>30</td>\n",
       "      <td>2.94</td>\n",
       "      <td>3.0</td>\n",
       "      <td>3.05</td>\n",
       "      <td>3.10</td>\n",
       "      <td>3.13</td>\n",
       "      <td>3.17</td>\n",
       "    </tr>\n",
       "    <tr>\n",
       "      <th>2</th>\n",
       "      <td>28</td>\n",
       "      <td>2.94</td>\n",
       "      <td>3.0</td>\n",
       "      <td>3.06</td>\n",
       "      <td>3.09</td>\n",
       "      <td>3.13</td>\n",
       "      <td>3.18</td>\n",
       "    </tr>\n",
       "    <tr>\n",
       "      <th>3</th>\n",
       "      <td>32</td>\n",
       "      <td>2.94</td>\n",
       "      <td>3.0</td>\n",
       "      <td>3.05</td>\n",
       "      <td>3.10</td>\n",
       "      <td>3.13</td>\n",
       "      <td>3.18</td>\n",
       "    </tr>\n",
       "    <tr>\n",
       "      <th>4</th>\n",
       "      <td>27</td>\n",
       "      <td>2.94</td>\n",
       "      <td>3.0</td>\n",
       "      <td>3.05</td>\n",
       "      <td>3.10</td>\n",
       "      <td>3.13</td>\n",
       "      <td>3.18</td>\n",
       "    </tr>\n",
       "  </tbody>\n",
       "</table>\n",
       "</div>"
      ],
      "text/plain": [
       "   Age  Pace (0-5K)  Pace (5-10K)  Pace (10-15K)  Pace (15-20K)  \\\n",
       "0   25         2.94           3.0           3.05           3.11   \n",
       "1   30         2.94           3.0           3.05           3.10   \n",
       "2   28         2.94           3.0           3.06           3.09   \n",
       "3   32         2.94           3.0           3.05           3.10   \n",
       "4   27         2.94           3.0           3.05           3.10   \n",
       "\n",
       "   Pace (20-25K)  Pace (25-30K)  \n",
       "0           3.13           3.18  \n",
       "1           3.13           3.17  \n",
       "2           3.13           3.18  \n",
       "3           3.13           3.18  \n",
       "4           3.13           3.18  "
      ]
     },
     "execution_count": 15,
     "metadata": {},
     "output_type": "execute_result"
    }
   ],
   "source": [
    "# Define the features set\n",
    "X = df_bonk.copy()\n",
    "X = df_bonk_log.drop([\"Calculated Bonk\",\"Pace (30-35K)\",\"Pace (35-40K)\",\"Name\",\"Bib\",\"City\",\"State\",\"Country\",\"M/F\",\"Overall Pace\"], axis=1)\n",
    "X.head()"
   ]
  },
  {
   "cell_type": "code",
   "execution_count": 16,
   "id": "241a925b",
   "metadata": {},
   "outputs": [
    {
     "data": {
      "text/plain": [
       "array([0, 0, 0, 0, 0], dtype=int64)"
      ]
     },
     "execution_count": 16,
     "metadata": {},
     "output_type": "execute_result"
    }
   ],
   "source": [
    "# Define the target set\n",
    "y = df_bonk_log[\"Calculated Bonk\"].ravel()\n",
    "y[:5]"
   ]
  },
  {
   "cell_type": "code",
   "execution_count": 17,
   "id": "80b2954e",
   "metadata": {},
   "outputs": [
    {
     "data": {
      "text/plain": [
       "(19728, 7)"
      ]
     },
     "execution_count": 17,
     "metadata": {},
     "output_type": "execute_result"
    }
   ],
   "source": [
    "# Split into Train and Test sets\n",
    "X_train, X_test, y_train, y_test = train_test_split(X, y, random_state = 55)\n",
    "X_train.shape"
   ]
  },
  {
   "cell_type": "code",
   "execution_count": 18,
   "id": "214bc5ef",
   "metadata": {},
   "outputs": [],
   "source": [
    "# Creating a StandardScaler instance.\n",
    "scaler = StandardScaler()\n",
    "# Fitting the Standard Scaler with the training data.\n",
    "X_scaler = scaler.fit(X_train)\n",
    "\n",
    "# Scaling the data.\n",
    "X_train_scaled = X_scaler.transform(X_train)\n",
    "X_test_scaled = X_scaler.transform(X_test)"
   ]
  },
  {
   "cell_type": "code",
   "execution_count": 19,
   "id": "2314c10a",
   "metadata": {},
   "outputs": [],
   "source": [
    "# Create a random forest classifier.\n",
    "rf_model = RandomForestClassifier(n_estimators=128, random_state=78) "
   ]
  },
  {
   "cell_type": "code",
   "execution_count": 20,
   "id": "f24f879d",
   "metadata": {},
   "outputs": [],
   "source": [
    "# Fitting the model\n",
    "rf_model = rf_model.fit(X_train_scaled, y_train)"
   ]
  },
  {
   "cell_type": "code",
   "execution_count": 21,
   "id": "725b1beb",
   "metadata": {},
   "outputs": [],
   "source": [
    "# Making predictions using the testing data.\n",
    "predictions = rf_model.predict(X_test_scaled)"
   ]
  },
  {
   "cell_type": "code",
   "execution_count": 22,
   "id": "7b593862",
   "metadata": {},
   "outputs": [
    {
     "data": {
      "text/html": [
       "<div>\n",
       "<style scoped>\n",
       "    .dataframe tbody tr th:only-of-type {\n",
       "        vertical-align: middle;\n",
       "    }\n",
       "\n",
       "    .dataframe tbody tr th {\n",
       "        vertical-align: top;\n",
       "    }\n",
       "\n",
       "    .dataframe thead th {\n",
       "        text-align: right;\n",
       "    }\n",
       "</style>\n",
       "<table border=\"1\" class=\"dataframe\">\n",
       "  <thead>\n",
       "    <tr style=\"text-align: right;\">\n",
       "      <th></th>\n",
       "      <th>Predicted No Bonk</th>\n",
       "      <th>Predicted Bonk</th>\n",
       "    </tr>\n",
       "  </thead>\n",
       "  <tbody>\n",
       "    <tr>\n",
       "      <th>Actual No Bonk</th>\n",
       "      <td>5651</td>\n",
       "      <td>137</td>\n",
       "    </tr>\n",
       "    <tr>\n",
       "      <th>Actual Bonk</th>\n",
       "      <td>610</td>\n",
       "      <td>178</td>\n",
       "    </tr>\n",
       "  </tbody>\n",
       "</table>\n",
       "</div>"
      ],
      "text/plain": [
       "                Predicted No Bonk  Predicted Bonk\n",
       "Actual No Bonk               5651             137\n",
       "Actual Bonk                   610             178"
      ]
     },
     "execution_count": 22,
     "metadata": {},
     "output_type": "execute_result"
    }
   ],
   "source": [
    "# Calculating the confusion matrix.\n",
    "cm = confusion_matrix(y_test, predictions)\n",
    "\n",
    "# Create a DataFrame from the confusion matrix.\n",
    "cm_df = pd.DataFrame(\n",
    "    cm, index=[\"Actual No Bonk\", \"Actual Bonk\"], columns=[\"Predicted No Bonk\", \"Predicted Bonk\"])\n",
    "\n",
    "cm_df"
   ]
  },
  {
   "cell_type": "code",
   "execution_count": 23,
   "id": "221d9a4e",
   "metadata": {},
   "outputs": [
    {
     "data": {
      "text/plain": [
       "0.886405109489051"
      ]
     },
     "execution_count": 23,
     "metadata": {},
     "output_type": "execute_result"
    }
   ],
   "source": [
    "# Calculating the accuracy score.\n",
    "acc_score = accuracy_score(y_test, predictions)\n",
    "acc_score"
   ]
  },
  {
   "cell_type": "code",
   "execution_count": 25,
   "id": "5ae4377e",
   "metadata": {},
   "outputs": [
    {
     "name": "stdout",
     "output_type": "stream",
     "text": [
      "Confusion Matrix\n"
     ]
    },
    {
     "data": {
      "text/html": [
       "<div>\n",
       "<style scoped>\n",
       "    .dataframe tbody tr th:only-of-type {\n",
       "        vertical-align: middle;\n",
       "    }\n",
       "\n",
       "    .dataframe tbody tr th {\n",
       "        vertical-align: top;\n",
       "    }\n",
       "\n",
       "    .dataframe thead th {\n",
       "        text-align: right;\n",
       "    }\n",
       "</style>\n",
       "<table border=\"1\" class=\"dataframe\">\n",
       "  <thead>\n",
       "    <tr style=\"text-align: right;\">\n",
       "      <th></th>\n",
       "      <th>Predicted No Bonk</th>\n",
       "      <th>Predicted Bonk</th>\n",
       "    </tr>\n",
       "  </thead>\n",
       "  <tbody>\n",
       "    <tr>\n",
       "      <th>Actual No Bonk</th>\n",
       "      <td>5651</td>\n",
       "      <td>137</td>\n",
       "    </tr>\n",
       "    <tr>\n",
       "      <th>Actual Bonk</th>\n",
       "      <td>610</td>\n",
       "      <td>178</td>\n",
       "    </tr>\n",
       "  </tbody>\n",
       "</table>\n",
       "</div>"
      ],
      "text/plain": [
       "                Predicted No Bonk  Predicted Bonk\n",
       "Actual No Bonk               5651             137\n",
       "Actual Bonk                   610             178"
      ]
     },
     "metadata": {},
     "output_type": "display_data"
    },
    {
     "name": "stdout",
     "output_type": "stream",
     "text": [
      "Accuracy Score : 0.886405109489051\n",
      "Classification Report\n",
      "              precision    recall  f1-score   support\n",
      "\n",
      "           0       0.90      0.98      0.94      5788\n",
      "           1       0.57      0.23      0.32       788\n",
      "\n",
      "    accuracy                           0.89      6576\n",
      "   macro avg       0.73      0.60      0.63      6576\n",
      "weighted avg       0.86      0.89      0.86      6576\n",
      "\n"
     ]
    }
   ],
   "source": [
    "# Displaying results\n",
    "print(\"Confusion Matrix\")\n",
    "display(cm_df)\n",
    "print(f\"Accuracy Score : {acc_score}\")\n",
    "print(\"Classification Report\")\n",
    "print(classification_report(y_test, predictions))"
   ]
  },
  {
   "cell_type": "code",
   "execution_count": 26,
   "id": "fafc9a78",
   "metadata": {},
   "outputs": [
    {
     "data": {
      "text/plain": [
       "array([0.10691965, 0.12389386, 0.12374527, 0.12980236, 0.1348325 ,\n",
       "       0.13810037, 0.24270599])"
      ]
     },
     "execution_count": 26,
     "metadata": {},
     "output_type": "execute_result"
    }
   ],
   "source": [
    "# Calculate feature importance in the Random Forest model.\n",
    "importances = rf_model.feature_importances_\n",
    "importances"
   ]
  },
  {
   "cell_type": "code",
   "execution_count": 27,
   "id": "0605b676",
   "metadata": {},
   "outputs": [
    {
     "data": {
      "text/plain": [
       "[(0.2427059855146885, 'Pace (25-30K)'),\n",
       " (0.13810037200401015, 'Pace (20-25K)'),\n",
       " (0.13483250239176212, 'Pace (15-20K)'),\n",
       " (0.12980235759721406, 'Pace (10-15K)'),\n",
       " (0.12389386131120686, 'Pace (0-5K)'),\n",
       " (0.123745271690063, 'Pace (5-10K)'),\n",
       " (0.1069196494910553, 'Age')]"
      ]
     },
     "execution_count": 27,
     "metadata": {},
     "output_type": "execute_result"
    }
   ],
   "source": [
    "# We can sort the features by their importance\n",
    "sorted(zip(rf_model.feature_importances_, X.columns), reverse=True)"
   ]
  },
  {
   "cell_type": "code",
   "execution_count": null,
   "id": "341a664c",
   "metadata": {},
   "outputs": [],
   "source": []
  }
 ],
 "metadata": {
  "kernelspec": {
   "display_name": "mlenv",
   "language": "python",
   "name": "mlenv"
  },
  "language_info": {
   "codemirror_mode": {
    "name": "ipython",
    "version": 3
   },
   "file_extension": ".py",
   "mimetype": "text/x-python",
   "name": "python",
   "nbconvert_exporter": "python",
   "pygments_lexer": "ipython3",
   "version": "3.7.13"
  }
 },
 "nbformat": 4,
 "nbformat_minor": 5
}
