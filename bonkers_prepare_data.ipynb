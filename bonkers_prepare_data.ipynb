{
 "cells": [
  {
   "cell_type": "markdown",
   "id": "4a64bd58",
   "metadata": {},
   "source": [
    "Using the cleaned datasets, perpare/process the data for machine learning and analysis."
   ]
  },
  {
   "cell_type": "code",
   "execution_count": null,
   "id": "5e18afba",
   "metadata": {},
   "outputs": [],
   "source": [
    "# import dependencies\n",
    "import pandas as pd\n",
    "from datetime import datetime as dt"
   ]
  },
  {
   "cell_type": "code",
   "execution_count": null,
   "id": "a1fadd0b",
   "metadata": {},
   "outputs": [],
   "source": [
    "# import csv files \n",
    "file_path = "
   ]
  }
 ],
 "metadata": {
  "kernelspec": {
   "display_name": "PythonData",
   "language": "python",
   "name": "pythondata"
  },
  "language_info": {
   "codemirror_mode": {
    "name": "ipython",
    "version": 3
   },
   "file_extension": ".py",
   "mimetype": "text/x-python",
   "name": "python",
   "nbconvert_exporter": "python",
   "pygments_lexer": "ipython3",
   "version": "3.9.7"
  }
 },
 "nbformat": 4,
 "nbformat_minor": 5
}
