{
 "cells": [
  {
   "cell_type": "code",
   "execution_count": 193,
   "id": "fbe934e4",
   "metadata": {},
   "outputs": [],
   "source": [
    "import matplotlib.pyplot as plt\n",
    "import pandas as pd\n",
    "from pathlib import Path"
   ]
  },
  {
   "cell_type": "code",
   "execution_count": 194,
   "id": "5d27e587",
   "metadata": {
    "scrolled": true
   },
   "outputs": [
    {
     "data": {
      "text/html": [
       "<div>\n",
       "<style scoped>\n",
       "    .dataframe tbody tr th:only-of-type {\n",
       "        vertical-align: middle;\n",
       "    }\n",
       "\n",
       "    .dataframe tbody tr th {\n",
       "        vertical-align: top;\n",
       "    }\n",
       "\n",
       "    .dataframe thead th {\n",
       "        text-align: right;\n",
       "    }\n",
       "</style>\n",
       "<table border=\"1\" class=\"dataframe\">\n",
       "  <thead>\n",
       "    <tr style=\"text-align: right;\">\n",
       "      <th></th>\n",
       "      <th>Age</th>\n",
       "      <th>Gender</th>\n",
       "      <th>Pace_5k</th>\n",
       "      <th>Pace_10k</th>\n",
       "      <th>Pace_15k</th>\n",
       "      <th>Pace_20k</th>\n",
       "      <th>Pace_25k</th>\n",
       "      <th>Pace_30k</th>\n",
       "      <th>Pace_20k_25k</th>\n",
       "      <th>Bonked?</th>\n",
       "    </tr>\n",
       "  </thead>\n",
       "  <tbody>\n",
       "    <tr>\n",
       "      <th>0</th>\n",
       "      <td>18</td>\n",
       "      <td>1</td>\n",
       "      <td>11.00</td>\n",
       "      <td>10.46</td>\n",
       "      <td>9.56</td>\n",
       "      <td>8.96</td>\n",
       "      <td>8.31</td>\n",
       "      <td>7.84</td>\n",
       "      <td>8.62</td>\n",
       "      <td>0</td>\n",
       "    </tr>\n",
       "    <tr>\n",
       "      <th>1</th>\n",
       "      <td>18</td>\n",
       "      <td>1</td>\n",
       "      <td>9.32</td>\n",
       "      <td>9.68</td>\n",
       "      <td>7.96</td>\n",
       "      <td>8.75</td>\n",
       "      <td>8.93</td>\n",
       "      <td>8.80</td>\n",
       "      <td>8.84</td>\n",
       "      <td>0</td>\n",
       "    </tr>\n",
       "    <tr>\n",
       "      <th>2</th>\n",
       "      <td>18</td>\n",
       "      <td>1</td>\n",
       "      <td>9.28</td>\n",
       "      <td>9.45</td>\n",
       "      <td>9.26</td>\n",
       "      <td>9.57</td>\n",
       "      <td>9.10</td>\n",
       "      <td>9.33</td>\n",
       "      <td>9.33</td>\n",
       "      <td>0</td>\n",
       "    </tr>\n",
       "    <tr>\n",
       "      <th>3</th>\n",
       "      <td>18</td>\n",
       "      <td>1</td>\n",
       "      <td>10.71</td>\n",
       "      <td>10.45</td>\n",
       "      <td>10.45</td>\n",
       "      <td>10.30</td>\n",
       "      <td>9.64</td>\n",
       "      <td>9.58</td>\n",
       "      <td>9.96</td>\n",
       "      <td>0</td>\n",
       "    </tr>\n",
       "    <tr>\n",
       "      <th>4</th>\n",
       "      <td>18</td>\n",
       "      <td>1</td>\n",
       "      <td>9.97</td>\n",
       "      <td>10.11</td>\n",
       "      <td>9.94</td>\n",
       "      <td>10.16</td>\n",
       "      <td>9.80</td>\n",
       "      <td>9.82</td>\n",
       "      <td>9.98</td>\n",
       "      <td>0</td>\n",
       "    </tr>\n",
       "  </tbody>\n",
       "</table>\n",
       "</div>"
      ],
      "text/plain": [
       "   Age  Gender  Pace_5k  Pace_10k  Pace_15k  Pace_20k  Pace_25k  Pace_30k  \\\n",
       "0   18       1    11.00     10.46      9.56      8.96      8.31      7.84   \n",
       "1   18       1     9.32      9.68      7.96      8.75      8.93      8.80   \n",
       "2   18       1     9.28      9.45      9.26      9.57      9.10      9.33   \n",
       "3   18       1    10.71     10.45     10.45     10.30      9.64      9.58   \n",
       "4   18       1     9.97     10.11      9.94     10.16      9.80      9.82   \n",
       "\n",
       "   Pace_20k_25k  Bonked?  \n",
       "0          8.62        0  \n",
       "1          8.84        0  \n",
       "2          9.33        0  \n",
       "3          9.96        0  \n",
       "4          9.98        0  "
      ]
     },
     "execution_count": 194,
     "metadata": {},
     "output_type": "execute_result"
    }
   ],
   "source": [
    "df = pd.read_csv(Path('./Resources/Bonk_Test2.csv'))\n",
    "df.head()"
   ]
  },
  {
   "cell_type": "code",
   "execution_count": 195,
   "id": "fdddae27",
   "metadata": {},
   "outputs": [],
   "source": [
    "y = df[\"Bonked?\"]\n",
    "X = df.drop([\"Bonked?\"], axis=1)"
   ]
  },
  {
   "cell_type": "code",
   "execution_count": 196,
   "id": "80b2954e",
   "metadata": {},
   "outputs": [
    {
     "data": {
      "text/plain": [
       "(19757, 9)"
      ]
     },
     "execution_count": 196,
     "metadata": {},
     "output_type": "execute_result"
    }
   ],
   "source": [
    "from sklearn.model_selection import train_test_split\n",
    "\n",
    "X_train, X_test, y_train, y_test = train_test_split(X,\n",
    "                                                    y, \n",
    "                                                    stratify=y)\n",
    "\n",
    "X_train.shape"
   ]
  },
  {
   "cell_type": "code",
   "execution_count": 199,
   "id": "214bc5ef",
   "metadata": {},
   "outputs": [],
   "source": [
    "from sklearn.linear_model import LogisticRegression\n",
    "classifier = LogisticRegression(solver='lbfgs',\n",
    "                                max_iter=1000)      "
   ]
  },
  {
   "cell_type": "code",
   "execution_count": 200,
   "id": "2314c10a",
   "metadata": {},
   "outputs": [
    {
     "data": {
      "text/plain": [
       "LogisticRegression(max_iter=1000)"
      ]
     },
     "execution_count": 200,
     "metadata": {},
     "output_type": "execute_result"
    }
   ],
   "source": [
    "classifier.fit(X_train, y_train)"
   ]
  },
  {
   "cell_type": "code",
   "execution_count": 201,
   "id": "f24f879d",
   "metadata": {},
   "outputs": [
    {
     "data": {
      "text/html": [
       "<div>\n",
       "<style scoped>\n",
       "    .dataframe tbody tr th:only-of-type {\n",
       "        vertical-align: middle;\n",
       "    }\n",
       "\n",
       "    .dataframe tbody tr th {\n",
       "        vertical-align: top;\n",
       "    }\n",
       "\n",
       "    .dataframe thead th {\n",
       "        text-align: right;\n",
       "    }\n",
       "</style>\n",
       "<table border=\"1\" class=\"dataframe\">\n",
       "  <thead>\n",
       "    <tr style=\"text-align: right;\">\n",
       "      <th></th>\n",
       "      <th>Prediction</th>\n",
       "      <th>Actual</th>\n",
       "    </tr>\n",
       "  </thead>\n",
       "  <tbody>\n",
       "    <tr>\n",
       "      <th>9214</th>\n",
       "      <td>0</td>\n",
       "      <td>0</td>\n",
       "    </tr>\n",
       "    <tr>\n",
       "      <th>13120</th>\n",
       "      <td>0</td>\n",
       "      <td>0</td>\n",
       "    </tr>\n",
       "    <tr>\n",
       "      <th>21636</th>\n",
       "      <td>0</td>\n",
       "      <td>0</td>\n",
       "    </tr>\n",
       "    <tr>\n",
       "      <th>5865</th>\n",
       "      <td>0</td>\n",
       "      <td>0</td>\n",
       "    </tr>\n",
       "    <tr>\n",
       "      <th>2594</th>\n",
       "      <td>0</td>\n",
       "      <td>0</td>\n",
       "    </tr>\n",
       "    <tr>\n",
       "      <th>...</th>\n",
       "      <td>...</td>\n",
       "      <td>...</td>\n",
       "    </tr>\n",
       "    <tr>\n",
       "      <th>13751</th>\n",
       "      <td>0</td>\n",
       "      <td>0</td>\n",
       "    </tr>\n",
       "    <tr>\n",
       "      <th>10225</th>\n",
       "      <td>0</td>\n",
       "      <td>0</td>\n",
       "    </tr>\n",
       "    <tr>\n",
       "      <th>21223</th>\n",
       "      <td>0</td>\n",
       "      <td>0</td>\n",
       "    </tr>\n",
       "    <tr>\n",
       "      <th>13229</th>\n",
       "      <td>0</td>\n",
       "      <td>0</td>\n",
       "    </tr>\n",
       "    <tr>\n",
       "      <th>11221</th>\n",
       "      <td>0</td>\n",
       "      <td>0</td>\n",
       "    </tr>\n",
       "  </tbody>\n",
       "</table>\n",
       "<p>6586 rows × 2 columns</p>\n",
       "</div>"
      ],
      "text/plain": [
       "       Prediction  Actual\n",
       "9214            0       0\n",
       "13120           0       0\n",
       "21636           0       0\n",
       "5865            0       0\n",
       "2594            0       0\n",
       "...           ...     ...\n",
       "13751           0       0\n",
       "10225           0       0\n",
       "21223           0       0\n",
       "13229           0       0\n",
       "11221           0       0\n",
       "\n",
       "[6586 rows x 2 columns]"
      ]
     },
     "execution_count": 201,
     "metadata": {},
     "output_type": "execute_result"
    }
   ],
   "source": [
    "predictions = classifier.predict(X_test)\n",
    "pd.DataFrame({\"Prediction\": predictions, \"Actual\": y_test})"
   ]
  },
  {
   "cell_type": "code",
   "execution_count": 202,
   "id": "725b1beb",
   "metadata": {},
   "outputs": [
    {
     "name": "stdout",
     "output_type": "stream",
     "text": [
      "Accuracy score\n",
      "0.7787731551776496\n"
     ]
    }
   ],
   "source": [
    "from sklearn.metrics import accuracy_score\n",
    "print(\"Accuracy score\")\n",
    "print(accuracy_score(y_test, y_pred))"
   ]
  },
  {
   "cell_type": "code",
   "execution_count": 203,
   "id": "7b593862",
   "metadata": {},
   "outputs": [
    {
     "data": {
      "text/html": [
       "<div>\n",
       "<style scoped>\n",
       "    .dataframe tbody tr th:only-of-type {\n",
       "        vertical-align: middle;\n",
       "    }\n",
       "\n",
       "    .dataframe tbody tr th {\n",
       "        vertical-align: top;\n",
       "    }\n",
       "\n",
       "    .dataframe thead th {\n",
       "        text-align: right;\n",
       "    }\n",
       "</style>\n",
       "<table border=\"1\" class=\"dataframe\">\n",
       "  <thead>\n",
       "    <tr style=\"text-align: right;\">\n",
       "      <th></th>\n",
       "      <th>Predicted No Bonk</th>\n",
       "      <th>Predicted Bonk</th>\n",
       "    </tr>\n",
       "  </thead>\n",
       "  <tbody>\n",
       "    <tr>\n",
       "      <th>Actual No Bonk</th>\n",
       "      <td>5036</td>\n",
       "      <td>715</td>\n",
       "    </tr>\n",
       "    <tr>\n",
       "      <th>Actual Bonk</th>\n",
       "      <td>742</td>\n",
       "      <td>93</td>\n",
       "    </tr>\n",
       "  </tbody>\n",
       "</table>\n",
       "</div>"
      ],
      "text/plain": [
       "                Predicted No Bonk  Predicted Bonk\n",
       "Actual No Bonk               5036             715\n",
       "Actual Bonk                   742              93"
      ]
     },
     "execution_count": 203,
     "metadata": {},
     "output_type": "execute_result"
    }
   ],
   "source": [
    "from sklearn.metrics import confusion_matrix, classification_report\n",
    "matrix = confusion_matrix(y_test, y_pred)\n",
    "\n",
    "matrix_df = pd.DataFrame(matrix, \n",
    "                         index=[\"Actual No Bonk\", \"Actual Bonk\"], \n",
    "                         columns=[\"Predicted No Bonk\", \"Predicted Bonk\"])\n",
    "\n",
    "matrix_df"
   ]
  },
  {
   "cell_type": "code",
   "execution_count": 204,
   "id": "221d9a4e",
   "metadata": {},
   "outputs": [
    {
     "name": "stdout",
     "output_type": "stream",
     "text": [
      "              precision    recall  f1-score   support\n",
      "\n",
      "           0       0.87      0.88      0.87      5751\n",
      "           1       0.12      0.11      0.11       835\n",
      "\n",
      "    accuracy                           0.78      6586\n",
      "   macro avg       0.49      0.49      0.49      6586\n",
      "weighted avg       0.78      0.78      0.78      6586\n",
      "\n"
     ]
    }
   ],
   "source": [
    "report = classification_report(y_test, y_pred)\n",
    "print(report)"
   ]
  },
  {
   "cell_type": "code",
   "execution_count": null,
   "id": "5ae4377e",
   "metadata": {},
   "outputs": [],
   "source": []
  }
 ],
 "metadata": {
  "kernelspec": {
   "display_name": "mlenv",
   "language": "python",
   "name": "mlenv"
  },
  "language_info": {
   "codemirror_mode": {
    "name": "ipython",
    "version": 3
   },
   "file_extension": ".py",
   "mimetype": "text/x-python",
   "name": "python",
   "nbconvert_exporter": "python",
   "pygments_lexer": "ipython3",
   "version": "3.7.13"
  }
 },
 "nbformat": 4,
 "nbformat_minor": 5
}
