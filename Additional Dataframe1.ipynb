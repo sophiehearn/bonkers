{
 "cells": [
  {
   "cell_type": "code",
   "execution_count": 1,
   "id": "49826c8c",
   "metadata": {},
   "outputs": [],
   "source": [
    "import pandas as pd\n",
    "import matplotlib.pylab as plt"
   ]
  },
  {
   "cell_type": "code",
   "execution_count": 2,
   "id": "444bf475",
   "metadata": {
    "scrolled": false
   },
   "outputs": [
    {
     "data": {
      "text/html": [
       "<div>\n",
       "<style scoped>\n",
       "    .dataframe tbody tr th:only-of-type {\n",
       "        vertical-align: middle;\n",
       "    }\n",
       "\n",
       "    .dataframe tbody tr th {\n",
       "        vertical-align: top;\n",
       "    }\n",
       "\n",
       "    .dataframe thead th {\n",
       "        text-align: right;\n",
       "    }\n",
       "</style>\n",
       "<table border=\"1\" class=\"dataframe\">\n",
       "  <thead>\n",
       "    <tr style=\"text-align: right;\">\n",
       "      <th></th>\n",
       "      <th>Bib</th>\n",
       "      <th>Name</th>\n",
       "      <th>Age</th>\n",
       "      <th>M/F</th>\n",
       "      <th>City</th>\n",
       "      <th>State</th>\n",
       "      <th>Country</th>\n",
       "      <th>Pace (0-5K)</th>\n",
       "      <th>Pace (5-10K)</th>\n",
       "      <th>Pace (10-15K)</th>\n",
       "      <th>Pace (15-20K)</th>\n",
       "      <th>Pace (20-25K)</th>\n",
       "      <th>Pace (25-30K)</th>\n",
       "      <th>Pace (30-35K)</th>\n",
       "      <th>Pace (35-40K)</th>\n",
       "      <th>Overall Pace</th>\n",
       "      <th>bonked?</th>\n",
       "    </tr>\n",
       "  </thead>\n",
       "  <tbody>\n",
       "    <tr>\n",
       "      <th>0</th>\n",
       "      <td>3</td>\n",
       "      <td>Desisa, Lelisa</td>\n",
       "      <td>25</td>\n",
       "      <td>M</td>\n",
       "      <td>Ambo</td>\n",
       "      <td>NaN</td>\n",
       "      <td>ETH</td>\n",
       "      <td>2.94</td>\n",
       "      <td>3.0</td>\n",
       "      <td>3.05</td>\n",
       "      <td>3.11</td>\n",
       "      <td>3.13</td>\n",
       "      <td>3.18</td>\n",
       "      <td>3.20</td>\n",
       "      <td>2.93</td>\n",
       "      <td>4.93</td>\n",
       "      <td>0</td>\n",
       "    </tr>\n",
       "    <tr>\n",
       "      <th>1</th>\n",
       "      <td>4</td>\n",
       "      <td>Tsegay, Yemane Adhane</td>\n",
       "      <td>30</td>\n",
       "      <td>M</td>\n",
       "      <td>Addis Ababa</td>\n",
       "      <td>NaN</td>\n",
       "      <td>ETH</td>\n",
       "      <td>2.94</td>\n",
       "      <td>3.0</td>\n",
       "      <td>3.05</td>\n",
       "      <td>3.10</td>\n",
       "      <td>3.13</td>\n",
       "      <td>3.17</td>\n",
       "      <td>3.20</td>\n",
       "      <td>2.94</td>\n",
       "      <td>4.97</td>\n",
       "      <td>1</td>\n",
       "    </tr>\n",
       "    <tr>\n",
       "      <th>2</th>\n",
       "      <td>8</td>\n",
       "      <td>Chebet, Wilson</td>\n",
       "      <td>29</td>\n",
       "      <td>M</td>\n",
       "      <td>Marakwet</td>\n",
       "      <td>NaN</td>\n",
       "      <td>KEN</td>\n",
       "      <td>2.94</td>\n",
       "      <td>3.0</td>\n",
       "      <td>3.05</td>\n",
       "      <td>3.11</td>\n",
       "      <td>3.13</td>\n",
       "      <td>3.18</td>\n",
       "      <td>3.20</td>\n",
       "      <td>3.01</td>\n",
       "      <td>4.98</td>\n",
       "      <td>1</td>\n",
       "    </tr>\n",
       "    <tr>\n",
       "      <th>3</th>\n",
       "      <td>11</td>\n",
       "      <td>Kipyego, Bernard</td>\n",
       "      <td>28</td>\n",
       "      <td>M</td>\n",
       "      <td>Eldoret</td>\n",
       "      <td>NaN</td>\n",
       "      <td>KEN</td>\n",
       "      <td>2.94</td>\n",
       "      <td>3.0</td>\n",
       "      <td>3.06</td>\n",
       "      <td>3.09</td>\n",
       "      <td>3.13</td>\n",
       "      <td>3.18</td>\n",
       "      <td>3.21</td>\n",
       "      <td>3.15</td>\n",
       "      <td>5.00</td>\n",
       "      <td>0</td>\n",
       "    </tr>\n",
       "    <tr>\n",
       "      <th>4</th>\n",
       "      <td>10</td>\n",
       "      <td>Korir, Wesley</td>\n",
       "      <td>32</td>\n",
       "      <td>M</td>\n",
       "      <td>Kitale</td>\n",
       "      <td>NaN</td>\n",
       "      <td>KEN</td>\n",
       "      <td>2.94</td>\n",
       "      <td>3.0</td>\n",
       "      <td>3.05</td>\n",
       "      <td>3.10</td>\n",
       "      <td>3.13</td>\n",
       "      <td>3.18</td>\n",
       "      <td>3.20</td>\n",
       "      <td>3.09</td>\n",
       "      <td>5.00</td>\n",
       "      <td>0</td>\n",
       "    </tr>\n",
       "  </tbody>\n",
       "</table>\n",
       "</div>"
      ],
      "text/plain": [
       "  Bib                   Name  Age M/F         City State Country  Pace (0-5K)  \\\n",
       "0   3         Desisa, Lelisa   25   M         Ambo   NaN     ETH         2.94   \n",
       "1   4  Tsegay, Yemane Adhane   30   M  Addis Ababa   NaN     ETH         2.94   \n",
       "2   8         Chebet, Wilson   29   M     Marakwet   NaN     KEN         2.94   \n",
       "3  11       Kipyego, Bernard   28   M      Eldoret   NaN     KEN         2.94   \n",
       "4  10          Korir, Wesley   32   M       Kitale   NaN     KEN         2.94   \n",
       "\n",
       "   Pace (5-10K)  Pace (10-15K)  Pace (15-20K)  Pace (20-25K)  Pace (25-30K)  \\\n",
       "0           3.0           3.05           3.11           3.13           3.18   \n",
       "1           3.0           3.05           3.10           3.13           3.17   \n",
       "2           3.0           3.05           3.11           3.13           3.18   \n",
       "3           3.0           3.06           3.09           3.13           3.18   \n",
       "4           3.0           3.05           3.10           3.13           3.18   \n",
       "\n",
       "   Pace (30-35K)  Pace (35-40K)  Overall Pace  bonked?  \n",
       "0           3.20           2.93          4.93        0  \n",
       "1           3.20           2.94          4.97        1  \n",
       "2           3.20           3.01          4.98        1  \n",
       "3           3.21           3.15          5.00        0  \n",
       "4           3.20           3.09          5.00        0  "
      ]
     },
     "execution_count": 2,
     "metadata": {},
     "output_type": "execute_result"
    }
   ],
   "source": [
    "path = \"marathon_2015_paces_practice _for_tableau.csv\"\n",
    "paces = pd.read_csv(path)\n",
    "paces.head()\n"
   ]
  },
  {
   "cell_type": "code",
   "execution_count": 3,
   "id": "6597eda2",
   "metadata": {},
   "outputs": [
    {
     "data": {
      "text/plain": [
       "2.94"
      ]
     },
     "execution_count": 3,
     "metadata": {},
     "output_type": "execute_result"
    }
   ],
   "source": [
    "paces[\"Pace (0-5K)\"][0]"
   ]
  },
  {
   "cell_type": "code",
   "execution_count": 4,
   "id": "6870d917",
   "metadata": {},
   "outputs": [
    {
     "name": "stderr",
     "output_type": "stream",
     "text": [
      "C:\\Users\\Noah\\AppData\\Local\\Temp\\ipykernel_23920\\214220766.py:18: SettingWithCopyWarning: \n",
      "A value is trying to be set on a copy of a slice from a DataFrame\n",
      "\n",
      "See the caveats in the documentation: https://pandas.pydata.org/pandas-docs/stable/user_guide/indexing.html#returning-a-view-versus-a-copy\n",
      "  paces[\"Avg Pace\"][i] = pavg\n"
     ]
    },
    {
     "data": {
      "text/plain": [
       "0         3.06750\n",
       "1         3.06625\n",
       "2         3.07750\n",
       "3         3.09500\n",
       "4         3.08625\n",
       "           ...   \n",
       "26299    10.83875\n",
       "26300    11.15750\n",
       "26301    11.40750\n",
       "26302    11.39000\n",
       "26303    11.53625\n",
       "Name: Avg Pace, Length: 26304, dtype: float64"
      ]
     },
     "execution_count": 4,
     "metadata": {},
     "output_type": "execute_result"
    }
   ],
   "source": [
    "# Measure the time it takes to run\n",
    "%%time\n",
    "# Creating a new Column that is an average of each 5k avg pace (instead of \"Overall Pace\")\n",
    "# Determining the length of the dataframe\n",
    "length = len(paces.index)\n",
    "\n",
    "\n",
    "paces[\"Avg Pace\"] = paces[\"Overall Pace\"]\n",
    "for i in range(length):\n",
    "    p1 = paces[\"Pace (0-5K)\"][i]\n",
    "    p2 = paces[\"Pace (5-10K)\"][i]\n",
    "    p3 = paces[\"Pace (10-15K)\"][i]\n",
    "    p4 = paces[\"Pace (15-20K)\"][i]\n",
    "    p5 = paces[\"Pace (20-25K)\"][i]\n",
    "    p6 = paces[\"Pace (25-30K)\"][i]\n",
    "    p7 = paces[\"Pace (30-35K)\"][i]\n",
    "    p8 = paces[\"Pace (35-40K)\"][i]\n",
    "    pavg = (p1+p2+p3+p4+p5+p6+p7+p8)/8\n",
    "    \n",
    "    paces[\"Avg Pace\"][i] = pavg\n",
    "paces[\"Avg Pace\"]\n",
    "    "
   ]
  },
  {
   "cell_type": "code",
   "execution_count": 5,
   "id": "baf5cbfc",
   "metadata": {},
   "outputs": [
    {
     "name": "stderr",
     "output_type": "stream",
     "text": [
      "C:\\Users\\Noah\\AppData\\Local\\Temp\\ipykernel_23920\\3635910510.py:5: SettingWithCopyWarning: \n",
      "A value is trying to be set on a copy of a slice from a DataFrame\n",
      "\n",
      "See the caveats in the documentation: https://pandas.pydata.org/pandas-docs/stable/user_guide/indexing.html#returning-a-view-versus-a-copy\n",
      "  paces[\"Elite Runner\"][i] = 1\n",
      "C:\\Users\\Noah\\AppData\\Local\\Temp\\ipykernel_23920\\3635910510.py:7: SettingWithCopyWarning: \n",
      "A value is trying to be set on a copy of a slice from a DataFrame\n",
      "\n",
      "See the caveats in the documentation: https://pandas.pydata.org/pandas-docs/stable/user_guide/indexing.html#returning-a-view-versus-a-copy\n",
      "  paces[\"Elite Runner\"][i] = 0\n"
     ]
    },
    {
     "data": {
      "text/html": [
       "<div>\n",
       "<style scoped>\n",
       "    .dataframe tbody tr th:only-of-type {\n",
       "        vertical-align: middle;\n",
       "    }\n",
       "\n",
       "    .dataframe tbody tr th {\n",
       "        vertical-align: top;\n",
       "    }\n",
       "\n",
       "    .dataframe thead th {\n",
       "        text-align: right;\n",
       "    }\n",
       "</style>\n",
       "<table border=\"1\" class=\"dataframe\">\n",
       "  <thead>\n",
       "    <tr style=\"text-align: right;\">\n",
       "      <th></th>\n",
       "      <th>Bib</th>\n",
       "      <th>Name</th>\n",
       "      <th>Age</th>\n",
       "      <th>M/F</th>\n",
       "      <th>City</th>\n",
       "      <th>State</th>\n",
       "      <th>Country</th>\n",
       "      <th>Pace (0-5K)</th>\n",
       "      <th>Pace (5-10K)</th>\n",
       "      <th>Pace (10-15K)</th>\n",
       "      <th>Pace (15-20K)</th>\n",
       "      <th>Pace (20-25K)</th>\n",
       "      <th>Pace (25-30K)</th>\n",
       "      <th>Pace (30-35K)</th>\n",
       "      <th>Pace (35-40K)</th>\n",
       "      <th>Overall Pace</th>\n",
       "      <th>bonked?</th>\n",
       "      <th>Avg Pace</th>\n",
       "      <th>Elite Runner</th>\n",
       "    </tr>\n",
       "  </thead>\n",
       "  <tbody>\n",
       "    <tr>\n",
       "      <th>0</th>\n",
       "      <td>3</td>\n",
       "      <td>Desisa, Lelisa</td>\n",
       "      <td>25</td>\n",
       "      <td>M</td>\n",
       "      <td>Ambo</td>\n",
       "      <td>NaN</td>\n",
       "      <td>ETH</td>\n",
       "      <td>2.94</td>\n",
       "      <td>3.0</td>\n",
       "      <td>3.05</td>\n",
       "      <td>3.11</td>\n",
       "      <td>3.13</td>\n",
       "      <td>3.18</td>\n",
       "      <td>3.20</td>\n",
       "      <td>2.93</td>\n",
       "      <td>4.93</td>\n",
       "      <td>0</td>\n",
       "      <td>3.06750</td>\n",
       "      <td>1</td>\n",
       "    </tr>\n",
       "    <tr>\n",
       "      <th>1</th>\n",
       "      <td>4</td>\n",
       "      <td>Tsegay, Yemane Adhane</td>\n",
       "      <td>30</td>\n",
       "      <td>M</td>\n",
       "      <td>Addis Ababa</td>\n",
       "      <td>NaN</td>\n",
       "      <td>ETH</td>\n",
       "      <td>2.94</td>\n",
       "      <td>3.0</td>\n",
       "      <td>3.05</td>\n",
       "      <td>3.10</td>\n",
       "      <td>3.13</td>\n",
       "      <td>3.17</td>\n",
       "      <td>3.20</td>\n",
       "      <td>2.94</td>\n",
       "      <td>4.97</td>\n",
       "      <td>1</td>\n",
       "      <td>3.06625</td>\n",
       "      <td>1</td>\n",
       "    </tr>\n",
       "    <tr>\n",
       "      <th>2</th>\n",
       "      <td>8</td>\n",
       "      <td>Chebet, Wilson</td>\n",
       "      <td>29</td>\n",
       "      <td>M</td>\n",
       "      <td>Marakwet</td>\n",
       "      <td>NaN</td>\n",
       "      <td>KEN</td>\n",
       "      <td>2.94</td>\n",
       "      <td>3.0</td>\n",
       "      <td>3.05</td>\n",
       "      <td>3.11</td>\n",
       "      <td>3.13</td>\n",
       "      <td>3.18</td>\n",
       "      <td>3.20</td>\n",
       "      <td>3.01</td>\n",
       "      <td>4.98</td>\n",
       "      <td>1</td>\n",
       "      <td>3.07750</td>\n",
       "      <td>1</td>\n",
       "    </tr>\n",
       "    <tr>\n",
       "      <th>3</th>\n",
       "      <td>11</td>\n",
       "      <td>Kipyego, Bernard</td>\n",
       "      <td>28</td>\n",
       "      <td>M</td>\n",
       "      <td>Eldoret</td>\n",
       "      <td>NaN</td>\n",
       "      <td>KEN</td>\n",
       "      <td>2.94</td>\n",
       "      <td>3.0</td>\n",
       "      <td>3.06</td>\n",
       "      <td>3.09</td>\n",
       "      <td>3.13</td>\n",
       "      <td>3.18</td>\n",
       "      <td>3.21</td>\n",
       "      <td>3.15</td>\n",
       "      <td>5.00</td>\n",
       "      <td>0</td>\n",
       "      <td>3.09500</td>\n",
       "      <td>1</td>\n",
       "    </tr>\n",
       "    <tr>\n",
       "      <th>4</th>\n",
       "      <td>10</td>\n",
       "      <td>Korir, Wesley</td>\n",
       "      <td>32</td>\n",
       "      <td>M</td>\n",
       "      <td>Kitale</td>\n",
       "      <td>NaN</td>\n",
       "      <td>KEN</td>\n",
       "      <td>2.94</td>\n",
       "      <td>3.0</td>\n",
       "      <td>3.05</td>\n",
       "      <td>3.10</td>\n",
       "      <td>3.13</td>\n",
       "      <td>3.18</td>\n",
       "      <td>3.20</td>\n",
       "      <td>3.09</td>\n",
       "      <td>5.00</td>\n",
       "      <td>0</td>\n",
       "      <td>3.08625</td>\n",
       "      <td>1</td>\n",
       "    </tr>\n",
       "  </tbody>\n",
       "</table>\n",
       "</div>"
      ],
      "text/plain": [
       "  Bib                   Name  Age M/F         City State Country  Pace (0-5K)  \\\n",
       "0   3         Desisa, Lelisa   25   M         Ambo   NaN     ETH         2.94   \n",
       "1   4  Tsegay, Yemane Adhane   30   M  Addis Ababa   NaN     ETH         2.94   \n",
       "2   8         Chebet, Wilson   29   M     Marakwet   NaN     KEN         2.94   \n",
       "3  11       Kipyego, Bernard   28   M      Eldoret   NaN     KEN         2.94   \n",
       "4  10          Korir, Wesley   32   M       Kitale   NaN     KEN         2.94   \n",
       "\n",
       "   Pace (5-10K)  Pace (10-15K)  Pace (15-20K)  Pace (20-25K)  Pace (25-30K)  \\\n",
       "0           3.0           3.05           3.11           3.13           3.18   \n",
       "1           3.0           3.05           3.10           3.13           3.17   \n",
       "2           3.0           3.05           3.11           3.13           3.18   \n",
       "3           3.0           3.06           3.09           3.13           3.18   \n",
       "4           3.0           3.05           3.10           3.13           3.18   \n",
       "\n",
       "   Pace (30-35K)  Pace (35-40K)  Overall Pace  bonked?  Avg Pace  Elite Runner  \n",
       "0           3.20           2.93          4.93        0   3.06750             1  \n",
       "1           3.20           2.94          4.97        1   3.06625             1  \n",
       "2           3.20           3.01          4.98        1   3.07750             1  \n",
       "3           3.21           3.15          5.00        0   3.09500             1  \n",
       "4           3.20           3.09          5.00        0   3.08625             1  "
      ]
     },
     "execution_count": 5,
     "metadata": {},
     "output_type": "execute_result"
    }
   ],
   "source": [
    "# measure time to execute\n",
    "%%time\n",
    "elite = paces.loc[paces[\"Avg Pace\"] < 3.5]\n",
    "paces[\"Elite Runner\"] = paces[\"bonked?\"]\n",
    "for i in range(length):\n",
    "    if paces[\"Avg Pace\"][i] < 3.50:\n",
    "        paces[\"Elite Runner\"][i] = 1\n",
    "    elif paces[\"Avg Pace\"][i] > 3.50:\n",
    "        paces[\"Elite Runner\"][i] = 0 \n",
    "        \n",
    "paces.head()"
   ]
  },
  {
   "cell_type": "code",
   "execution_count": null,
   "id": "951ae43c",
   "metadata": {
    "scrolled": false
   },
   "outputs": [],
   "source": []
  },
  {
   "cell_type": "code",
   "execution_count": null,
   "id": "1a4d87fe",
   "metadata": {},
   "outputs": [],
   "source": [
    "\n"
   ]
  },
  {
   "cell_type": "code",
   "execution_count": 6,
   "id": "02475233",
   "metadata": {},
   "outputs": [],
   "source": [
    "ages_under_20 = paces.loc[paces['Age'] < 20]"
   ]
  },
  {
   "cell_type": "code",
   "execution_count": 7,
   "id": "d42bc818",
   "metadata": {},
   "outputs": [],
   "source": [
    "under_25 = paces.loc[paces['Age'] < 25]\n",
    "ages_20_to_25 = under_25.loc[under_25['Age'] >= 20]"
   ]
  },
  {
   "cell_type": "code",
   "execution_count": 8,
   "id": "356e5cd4",
   "metadata": {},
   "outputs": [],
   "source": [
    "under_30 = paces.loc[paces['Age'] < 30]\n",
    "ages_25_to_30 = under_30.loc[under_30['Age'] >= 25]"
   ]
  },
  {
   "cell_type": "code",
   "execution_count": 9,
   "id": "e3f1bfa0",
   "metadata": {},
   "outputs": [],
   "source": [
    "under_35 = paces.loc[paces['Age'] < 35]\n",
    "ages_30_to_35 = under_35.loc[under_35['Age'] >= 30]"
   ]
  },
  {
   "cell_type": "code",
   "execution_count": 10,
   "id": "c4290885",
   "metadata": {},
   "outputs": [],
   "source": [
    "under_40 = paces.loc[paces['Age'] < 40]\n",
    "ages_35_to_40 = under_40.loc[under_40['Age'] >= 35]"
   ]
  },
  {
   "cell_type": "code",
   "execution_count": 11,
   "id": "25d5565a",
   "metadata": {},
   "outputs": [],
   "source": [
    "under_45 = paces.loc[paces['Age'] < 45]\n",
    "ages_40_to_45 = under_45.loc[under_45['Age'] >= 40]"
   ]
  },
  {
   "cell_type": "code",
   "execution_count": 12,
   "id": "ffd34fa3",
   "metadata": {},
   "outputs": [],
   "source": [
    "under_50 = paces.loc[paces['Age'] < 50]\n",
    "ages_45_to_50 = under_50.loc[under_50['Age'] >= 45]"
   ]
  },
  {
   "cell_type": "code",
   "execution_count": 13,
   "id": "db213b58",
   "metadata": {},
   "outputs": [],
   "source": [
    "under_55 = paces.loc[paces['Age'] < 55]\n",
    "ages_50_to_55 = under_55.loc[under_55['Age'] >= 50]"
   ]
  },
  {
   "cell_type": "code",
   "execution_count": 14,
   "id": "991b81f5",
   "metadata": {},
   "outputs": [],
   "source": [
    "under_60 = paces.loc[paces['Age'] < 60]\n",
    "ages_55_to_60 = under_60.loc[under_60['Age'] >= 55]"
   ]
  },
  {
   "cell_type": "code",
   "execution_count": 15,
   "id": "387842e4",
   "metadata": {},
   "outputs": [],
   "source": [
    "under_65 = paces.loc[paces['Age'] < 65]\n",
    "ages_60_to_65 = under_65.loc[under_65['Age'] >= 60]"
   ]
  },
  {
   "cell_type": "code",
   "execution_count": 16,
   "id": "32ff3b03",
   "metadata": {},
   "outputs": [],
   "source": [
    "under_70 = paces.loc[paces['Age'] < 70]\n",
    "ages_65_to_70 = under_70.loc[under_70['Age'] >= 65]"
   ]
  },
  {
   "cell_type": "code",
   "execution_count": 17,
   "id": "de8f95b6",
   "metadata": {},
   "outputs": [],
   "source": [
    "under_75 = paces.loc[paces['Age'] < 75]\n",
    "ages_70_to_75 = under_75.loc[under_75['Age'] >= 70]"
   ]
  },
  {
   "cell_type": "code",
   "execution_count": 18,
   "id": "3d9dd4be",
   "metadata": {},
   "outputs": [],
   "source": [
    "under_80 = paces.loc[paces['Age'] < 80]\n",
    "ages_75_to_80 = under_80.loc[under_80['Age'] >= 75]"
   ]
  },
  {
   "cell_type": "code",
   "execution_count": 19,
   "id": "b7f51392",
   "metadata": {},
   "outputs": [],
   "source": [
    "ages_80_plus = paces.loc[paces['Age']>80]"
   ]
  },
  {
   "cell_type": "code",
   "execution_count": 33,
   "id": "c7c3d8f8",
   "metadata": {
    "scrolled": true
   },
   "outputs": [
    {
     "data": {
      "image/png": "[encoded data removed]",
      "text/plain": [
       "<Figure size 432x288 with 1 Axes>"
      ]
     },
     "metadata": {
      "needs_background": "light"
     },
     "output_type": "display_data"
    }
   ],
   "source": [
    "# Elite Athletes\n",
    "\n",
    "y1 = elite[\"Pace (0-5K)\"].mean()\n",
    "y2 = elite[\"Pace (5-10K)\"].mean()\n",
    "y3 = elite[\"Pace (10-15K)\"].mean()\n",
    "y4 = elite[\"Pace (15-20K)\"].mean()\n",
    "y5 = elite[\"Pace (20-25K)\"].mean()\n",
    "y6 = elite[\"Pace (25-30K)\"].mean()\n",
    "y7 = elite[\"Pace (30-35K)\"].mean()\n",
    "y8 = elite[\"Pace (35-40K)\"].mean()\n",
    "\n",
    "y_elite = {5:y1,\n",
    "     10:y2,\n",
    "     15:y3,\n",
    "     20:y4,\n",
    "     25:y5,\n",
    "     30:y6,\n",
    "     35:y7,\n",
    "     40:y8}\n",
    "\n",
    "plt.plot(*zip(*sorted(y_elite.items())))\n",
    "plt.show()"
   ]
  },
  {
   "cell_type": "code",
   "execution_count": 96,
   "id": "d7225f10",
   "metadata": {
    "scrolled": true
   },
   "outputs": [
    {
     "data": {
      "text/html": [
       "<div>\n",
       "<style scoped>\n",
       "    .dataframe tbody tr th:only-of-type {\n",
       "        vertical-align: middle;\n",
       "    }\n",
       "\n",
       "    .dataframe tbody tr th {\n",
       "        vertical-align: top;\n",
       "    }\n",
       "\n",
       "    .dataframe thead th {\n",
       "        text-align: right;\n",
       "    }\n",
       "</style>\n",
       "<table border=\"1\" class=\"dataframe\">\n",
       "  <thead>\n",
       "    <tr style=\"text-align: right;\">\n",
       "      <th></th>\n",
       "      <th>Avg Pace (min/km)</th>\n",
       "    </tr>\n",
       "  </thead>\n",
       "  <tbody>\n",
       "    <tr>\n",
       "      <th>5</th>\n",
       "      <td>3.228696</td>\n",
       "    </tr>\n",
       "    <tr>\n",
       "      <th>10</th>\n",
       "      <td>3.270725</td>\n",
       "    </tr>\n",
       "    <tr>\n",
       "      <th>15</th>\n",
       "      <td>3.319710</td>\n",
       "    </tr>\n",
       "    <tr>\n",
       "      <th>20</th>\n",
       "      <td>3.341159</td>\n",
       "    </tr>\n",
       "    <tr>\n",
       "      <th>25</th>\n",
       "      <td>3.347101</td>\n",
       "    </tr>\n",
       "    <tr>\n",
       "      <th>30</th>\n",
       "      <td>3.420870</td>\n",
       "    </tr>\n",
       "    <tr>\n",
       "      <th>35</th>\n",
       "      <td>3.487101</td>\n",
       "    </tr>\n",
       "    <tr>\n",
       "      <th>40</th>\n",
       "      <td>3.491739</td>\n",
       "    </tr>\n",
       "  </tbody>\n",
       "</table>\n",
       "</div>"
      ],
      "text/plain": [
       "    Avg Pace (min/km)\n",
       "5            3.228696\n",
       "10           3.270725\n",
       "15           3.319710\n",
       "20           3.341159\n",
       "25           3.347101\n",
       "30           3.420870\n",
       "35           3.487101\n",
       "40           3.491739"
      ]
     },
     "execution_count": 96,
     "metadata": {},
     "output_type": "execute_result"
    }
   ],
   "source": [
    "splits_elite_df = pd.DataFrame.from_dict(y_elite, orient='index', dtype=None, columns=None)\n",
    "splits_elite_df.rename({0: 'Avg Pace (min/km)'}, axis=1, inplace=True)\n",
    "splits_elite_df"
   ]
  },
  {
   "cell_type": "code",
   "execution_count": 103,
   "id": "95fa01ce",
   "metadata": {},
   "outputs": [
    {
     "name": "stdout",
     "output_type": "stream",
     "text": [
      "Percent Drop is 4.0% in pace\n"
     ]
    }
   ],
   "source": [
    "# Calculating the percent change from the 20-30k pace to 30-35k pace in elite marathoners to create a reference\n",
    "pace_ref = (splits_elite_df[\"Avg Pace (min/km)\"][25] + splits_elite_df[\"Avg Pace (min/km)\"][25])/2\n",
    "pace_bonk = splits_elite_df[\"Avg Pace (min/km)\"][35]\n",
    "percent_drop = (1- pace_ref/pace_bonk)*100\n",
    "print(f'Percent Drop is {percent_drop:.1f}% in pace')"
   ]
  },
  {
   "cell_type": "code",
   "execution_count": 62,
   "id": "956b18df",
   "metadata": {},
   "outputs": [
    {
     "data": {
      "image/png": "[encoded data removed]",
      "text/plain": [
       "<Figure size 432x288 with 1 Axes>"
      ]
     },
     "metadata": {
      "needs_background": "light"
     },
     "output_type": "display_data"
    }
   ],
   "source": [
    "# Age Range: 20 year olds and under\n",
    "\n",
    "y1 = ages_under_20[\"Pace (0-5K)\"].mean()\n",
    "y2 = ages_under_20[\"Pace (5-10K)\"].mean()\n",
    "y3 = ages_under_20[\"Pace (10-15K)\"].mean()\n",
    "y4 = ages_under_20[\"Pace (15-20K)\"].mean()\n",
    "y5 = ages_under_20[\"Pace (20-25K)\"].mean()\n",
    "y6 = ages_under_20[\"Pace (25-30K)\"].mean()\n",
    "y7 = ages_under_20[\"Pace (30-35K)\"].mean()\n",
    "y8 = ages_under_20[\"Pace (35-40K)\"].mean()\n",
    "\n",
    "y_under_20 = {5:y1,\n",
    "     10:y2,\n",
    "     15:y3,\n",
    "     20:y4,\n",
    "     25:y5,\n",
    "     30:y6,\n",
    "     35:y7,\n",
    "     40:y8}\n",
    "\n",
    "plt.plot(*zip(*sorted(y_under_20.items())))\n",
    "plt.show()"
   ]
  },
  {
   "cell_type": "code",
   "execution_count": 22,
   "id": "9db647b6",
   "metadata": {},
   "outputs": [
    {
     "data": {
      "image/png": "[encoded data removed]",
      "text/plain": [
       "<Figure size 432x288 with 1 Axes>"
      ]
     },
     "metadata": {
      "needs_background": "light"
     },
     "output_type": "display_data"
    }
   ],
   "source": [
    "# Age Range: 20-25 year olds\n",
    "\n",
    "y1 = ages_20_to_25[\"Pace (0-5K)\"].mean()\n",
    "y2 = ages_20_to_25[\"Pace (5-10K)\"].mean()\n",
    "y3 = ages_20_to_25[\"Pace (10-15K)\"].mean()\n",
    "y4 = ages_20_to_25[\"Pace (15-20K)\"].mean()\n",
    "y5 = ages_20_to_25[\"Pace (20-25K)\"].mean()\n",
    "y6 = ages_20_to_25[\"Pace (25-30K)\"].mean()\n",
    "y7 = ages_20_to_25[\"Pace (30-35K)\"].mean()\n",
    "y8 = ages_20_to_25[\"Pace (35-40K)\"].mean()\n",
    "\n",
    "y_20_25 = {5:y1,\n",
    "     10:y2,\n",
    "     15:y3,\n",
    "     20:y4,\n",
    "     25:y5,\n",
    "     30:y6,\n",
    "     35:y7,\n",
    "     40:y8}\n",
    "\n",
    "plt.plot(*zip(*sorted(y_20_25.items())))\n",
    "plt.show()"
   ]
  },
  {
   "cell_type": "code",
   "execution_count": 23,
   "id": "4208e96a",
   "metadata": {},
   "outputs": [
    {
     "data": {
      "image/png": "[encoded data removed]",
      "text/plain": [
       "<Figure size 432x288 with 1 Axes>"
      ]
     },
     "metadata": {
      "needs_background": "light"
     },
     "output_type": "display_data"
    }
   ],
   "source": [
    "# Age Range: 25-30 year olds\n",
    "\n",
    "y1 = ages_25_to_30[\"Pace (0-5K)\"].mean()\n",
    "y2 = ages_25_to_30[\"Pace (5-10K)\"].mean()\n",
    "y3 = ages_25_to_30[\"Pace (10-15K)\"].mean()\n",
    "y4 = ages_25_to_30[\"Pace (15-20K)\"].mean()\n",
    "y5 = ages_25_to_30[\"Pace (20-25K)\"].mean()\n",
    "y6 = ages_25_to_30[\"Pace (25-30K)\"].mean()\n",
    "y7 = ages_25_to_30[\"Pace (30-35K)\"].mean()\n",
    "y8 = ages_25_to_30[\"Pace (35-40K)\"].mean()\n",
    "\n",
    "y_25_30 = {5:y1,\n",
    "     10:y2,\n",
    "     15:y3,\n",
    "     20:y4,\n",
    "     25:y5,\n",
    "     30:y6,\n",
    "     35:y7,\n",
    "     40:y8}\n",
    "\n",
    "plt.plot(*zip(*sorted(y_25_30.items())))\n",
    "plt.show()"
   ]
  },
  {
   "cell_type": "code",
   "execution_count": 24,
   "id": "15cd2b7c",
   "metadata": {},
   "outputs": [
    {
     "data": {
      "image/png": "[encoded data removed]",
      "text/plain": [
       "<Figure size 432x288 with 1 Axes>"
      ]
     },
     "metadata": {
      "needs_background": "light"
     },
     "output_type": "display_data"
    }
   ],
   "source": [
    "# Age Range: 30-35 year olds\n",
    "Ages = \" 30 to 35 years old\"\n",
    "y1 = ages_30_to_35[\"Pace (0-5K)\"].mean()\n",
    "y2 = ages_30_to_35[\"Pace (5-10K)\"].mean()\n",
    "y3 = ages_30_to_35[\"Pace (10-15K)\"].mean()\n",
    "y4 = ages_30_to_35[\"Pace (15-20K)\"].mean()\n",
    "y5 = ages_30_to_35[\"Pace (20-25K)\"].mean()\n",
    "y6 = ages_30_to_35[\"Pace (25-30K)\"].mean()\n",
    "y7 = ages_30_to_35[\"Pace (30-35K)\"].mean()\n",
    "y8 = ages_30_to_35[\"Pace (35-40K)\"].mean()\n",
    "\n",
    "y_30_35 = {5:y1,\n",
    "     10:y2,\n",
    "     15:y3,\n",
    "     20:y4,\n",
    "     25:y5,\n",
    "     30:y6,\n",
    "     35:y7,\n",
    "     40:y8}\n",
    "\n",
    "plt.plot(*zip(*sorted(y_30_35.items())))\n",
    "plt.xlabel(\"Distance (km)\")\n",
    "plt.ylabel(\"Pace (min/km)\")\n",
    "plt.title(Ages)\n",
    "plt.show()"
   ]
  },
  {
   "cell_type": "code",
   "execution_count": 25,
   "id": "91e5d3ca",
   "metadata": {},
   "outputs": [
    {
     "data": {
      "image/png": "[encoded data removed]",
      "text/plain": [
       "<Figure size 432x288 with 1 Axes>"
      ]
     },
     "metadata": {
      "needs_background": "light"
     },
     "output_type": "display_data"
    }
   ],
   "source": [
    "# Age Range: 35-40 year olds\n",
    "Ages = \" 35 - 40 year olds\"\n",
    "y1 = ages_35_to_40[\"Pace (0-5K)\"].mean()\n",
    "y2 = ages_35_to_40[\"Pace (5-10K)\"].mean()\n",
    "y3 = ages_35_to_40[\"Pace (10-15K)\"].mean()\n",
    "y4 = ages_35_to_40[\"Pace (15-20K)\"].mean()\n",
    "y5 = ages_35_to_40[\"Pace (20-25K)\"].mean()\n",
    "y6 = ages_35_to_40[\"Pace (25-30K)\"].mean()\n",
    "y7 = ages_35_to_40[\"Pace (30-35K)\"].mean()\n",
    "y8 = ages_35_to_40[\"Pace (35-40K)\"].mean()\n",
    "\n",
    "y_35_40 = {5:y1,\n",
    "     10:y2,\n",
    "     15:y3,\n",
    "     20:y4,\n",
    "     25:y5,\n",
    "     30:y6,\n",
    "     35:y7,\n",
    "     40:y8}\n",
    "\n",
    "plt.plot(*zip(*sorted(y_35_40.items())))\n",
    "plt.xlabel(\"Distance (km)\")\n",
    "plt.ylabel(\"Pace (min/km)\")\n",
    "plt.title(Ages)\n",
    "plt.show()"
   ]
  },
  {
   "cell_type": "code",
   "execution_count": 26,
   "id": "e5264db9",
   "metadata": {},
   "outputs": [
    {
     "data": {
      "image/png": "[encoded data removed]",
      "text/plain": [
       "<Figure size 432x288 with 1 Axes>"
      ]
     },
     "metadata": {
      "needs_background": "light"
     },
     "output_type": "display_data"
    }
   ],
   "source": [
    "# Age Range: 40-45 year olds\n",
    "Ages = \"40 to 45 year olds (Avg)\"\n",
    "\n",
    "y1 = ages_40_to_45[\"Pace (0-5K)\"].mean()\n",
    "y2 = ages_40_to_45[\"Pace (5-10K)\"].mean()\n",
    "y3 = ages_40_to_45[\"Pace (10-15K)\"].mean()\n",
    "y4 = ages_40_to_45[\"Pace (15-20K)\"].mean()\n",
    "y5 = ages_40_to_45[\"Pace (20-25K)\"].mean()\n",
    "y6 = ages_40_to_45[\"Pace (25-30K)\"].mean()\n",
    "y7 = ages_40_to_45[\"Pace (30-35K)\"].mean()\n",
    "y8 = ages_40_to_45[\"Pace (35-40K)\"].mean()\n",
    "\n",
    "y_40_45 = {5:y1,\n",
    "     10:y2,\n",
    "     15:y3,\n",
    "     20:y4,\n",
    "     25:y5,\n",
    "     30:y6,\n",
    "     35:y7,\n",
    "     40:y8}\n",
    "\n",
    "plt.plot(*zip(*sorted(y_40_45.items())))\n",
    "plt.xlabel(\"Distance (km)\")\n",
    "plt.ylabel(\"Pace (min/km)\")\n",
    "plt.title(Ages)\n",
    "plt.show()"
   ]
  },
  {
   "cell_type": "code",
   "execution_count": 27,
   "id": "fefd0627",
   "metadata": {},
   "outputs": [
    {
     "data": {
      "image/png": "[encoded data removed]",
      "text/plain": [
       "<Figure size 432x288 with 1 Axes>"
      ]
     },
     "metadata": {
      "needs_background": "light"
     },
     "output_type": "display_data"
    }
   ],
   "source": [
    "# Age Range: 45-50 year olds\n",
    "Ages = \"45 to 50 year olds (Avg)\"\n",
    "y1 = ages_45_to_50[\"Pace (0-5K)\"].mean()\n",
    "y2 = ages_45_to_50[\"Pace (5-10K)\"].mean()\n",
    "y3 = ages_45_to_50[\"Pace (10-15K)\"].mean()\n",
    "y4 = ages_45_to_50[\"Pace (15-20K)\"].mean()\n",
    "y5 = ages_45_to_50[\"Pace (20-25K)\"].mean()\n",
    "y6 = ages_45_to_50[\"Pace (25-30K)\"].mean()\n",
    "y7 = ages_45_to_50[\"Pace (30-35K)\"].mean()\n",
    "y8 = ages_45_to_50[\"Pace (35-40K)\"].mean()\n",
    "\n",
    "y_45_50 = {5:y1,\n",
    "     10:y2,\n",
    "     15:y3,\n",
    "     20:y4,\n",
    "     25:y5,\n",
    "     30:y6,\n",
    "     35:y7,\n",
    "     40:y8}\n",
    "\n",
    "plt.plot(*zip(*sorted(y_45_50.items())))\n",
    "plt.xlabel(\"Distance (km)\")\n",
    "plt.ylabel(\"Pace (min/km)\")\n",
    "plt.title(Ages)\n",
    "plt.show()"
   ]
  },
  {
   "cell_type": "code",
   "execution_count": 28,
   "id": "e1c8d2e2",
   "metadata": {},
   "outputs": [
    {
     "data": {
      "image/png": "[encoded data removed]",
      "text/plain": [
       "<Figure size 432x288 with 1 Axes>"
      ]
     },
     "metadata": {
      "needs_background": "light"
     },
     "output_type": "display_data"
    }
   ],
   "source": [
    "# Age Range: 50-55 year olds\n",
    "\n",
    "Ages = \"50 to 55 year olds (Avg)\"\n",
    "y1 = ages_50_to_55[\"Pace (0-5K)\"].mean()\n",
    "y2 = ages_50_to_55[\"Pace (5-10K)\"].mean()\n",
    "y3 = ages_50_to_55[\"Pace (10-15K)\"].mean()\n",
    "y4 = ages_50_to_55[\"Pace (15-20K)\"].mean()\n",
    "y5 = ages_50_to_55[\"Pace (20-25K)\"].mean()\n",
    "y6 = ages_50_to_55[\"Pace (25-30K)\"].mean()\n",
    "y7 = ages_50_to_55[\"Pace (30-35K)\"].mean()\n",
    "y8 = ages_50_to_55[\"Pace (35-40K)\"].mean()\n",
    "\n",
    "y_50_55 = {5:y1,\n",
    "     10:y2,\n",
    "     15:y3,\n",
    "     20:y4,\n",
    "     25:y5,\n",
    "     30:y6,\n",
    "     35:y7,\n",
    "     40:y8}\n",
    "\n",
    "plt.plot(*zip(*sorted(y_50_55.items())))\n",
    "\n",
    "plt.xlabel(\"Distance (km)\")\n",
    "plt.ylabel(\"Pace (min/km)\")\n",
    "plt.title(Ages)\n",
    "plt.show()"
   ]
  },
  {
   "cell_type": "code",
   "execution_count": 29,
   "id": "987eb75b",
   "metadata": {},
   "outputs": [
    {
     "data": {
      "image/png": "[encoded data removed]",
      "text/plain": [
       "<Figure size 432x288 with 1 Axes>"
      ]
     },
     "metadata": {
      "needs_background": "light"
     },
     "output_type": "display_data"
    }
   ],
   "source": [
    "# Age Range: 40-45 year olds\n",
    "\n",
    "y1 = ages_40_to_45[\"Pace (0-5K)\"].mean()\n",
    "y2 = ages_40_to_45[\"Pace (5-10K)\"].mean()\n",
    "y3 = ages_40_to_45[\"Pace (10-15K)\"].mean()\n",
    "y4 = ages_40_to_45[\"Pace (15-20K)\"].mean()\n",
    "y5 = ages_40_to_45[\"Pace (20-25K)\"].mean()\n",
    "y6 = ages_40_to_45[\"Pace (25-30K)\"].mean()\n",
    "y7 = ages_40_to_45[\"Pace (30-35K)\"].mean()\n",
    "y8 = ages_40_to_45[\"Pace (35-40K)\"].mean()\n",
    "\n",
    "y_40_45 = {5:y1,\n",
    "     10:y2,\n",
    "     15:y3,\n",
    "     20:y4,\n",
    "     25:y5,\n",
    "     30:y6,\n",
    "     35:y7,\n",
    "     40:y8}\n",
    "\n",
    "plt.plot(*zip(*sorted(y_40_45.items())))\n",
    "plt.show()"
   ]
  },
  {
   "cell_type": "code",
   "execution_count": 30,
   "id": "5c858e83",
   "metadata": {},
   "outputs": [
    {
     "data": {
      "image/png": "[encoded data removed]",
      "text/plain": [
       "<Figure size 432x288 with 1 Axes>"
      ]
     },
     "metadata": {
      "needs_background": "light"
     },
     "output_type": "display_data"
    }
   ],
   "source": [
    "# Age Range: 45-50 year olds\n",
    "\n",
    "y1 = ages_45_to_50[\"Pace (0-5K)\"].mean()\n",
    "y2 = ages_45_to_50[\"Pace (5-10K)\"].mean()\n",
    "y3 = ages_45_to_50[\"Pace (10-15K)\"].mean()\n",
    "y4 = ages_45_to_50[\"Pace (15-20K)\"].mean()\n",
    "y5 = ages_45_to_50[\"Pace (20-25K)\"].mean()\n",
    "y6 = ages_45_to_50[\"Pace (25-30K)\"].mean()\n",
    "y7 = ages_45_to_50[\"Pace (30-35K)\"].mean()\n",
    "y8 = ages_45_to_50[\"Pace (35-40K)\"].mean()\n",
    "\n",
    "y_45_50 = {5:y1,\n",
    "     10:y2,\n",
    "     15:y3,\n",
    "     20:y4,\n",
    "     25:y5,\n",
    "     30:y6,\n",
    "     35:y7,\n",
    "     40:y8}\n",
    "\n",
    "plt.plot(*zip(*sorted(y_45_50.items())))\n",
    "plt.show()"
   ]
  },
  {
   "cell_type": "code",
   "execution_count": 40,
   "id": "83f41bf6",
   "metadata": {},
   "outputs": [],
   "source": [
    "paces.to_csv(\"paces.csv\")"
   ]
  },
  {
   "cell_type": "code",
   "execution_count": null,
   "id": "5a0d45bf",
   "metadata": {},
   "outputs": [],
   "source": [
    "plt.plot(*zip(*sorted(y.items())))\n",
    "plt.show()"
   ]
  },
  {
   "cell_type": "code",
   "execution_count": null,
   "id": "63ccb5d7",
   "metadata": {},
   "outputs": [],
   "source": []
  }
 ],
 "metadata": {
  "kernelspec": {
   "display_name": "Python 3 (ipykernel)",
   "language": "python",
   "name": "python3"
  },
  "language_info": {
   "codemirror_mode": {
    "name": "ipython",
    "version": 3
   },
   "file_extension": ".py",
   "mimetype": "text/x-python",
   "name": "python",
   "nbconvert_exporter": "python",
   "pygments_lexer": "ipython3",
   "version": "3.9.7"
  }
 },
 "nbformat": 4,
 "nbformat_minor": 5
}
